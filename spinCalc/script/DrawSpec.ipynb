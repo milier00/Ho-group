{
 "cells": [
  {
   "cell_type": "code",
   "execution_count": 1,
   "metadata": {},
   "outputs": [
    {
     "data": {
      "text/plain": [
       "{'divide': 'warn', 'over': 'warn', 'under': 'ignore', 'invalid': 'warn'}"
      ]
     },
     "execution_count": 1,
     "metadata": {},
     "output_type": "execute_result"
    }
   ],
   "source": [
    "import numpy as np\n",
    "from matplotlib import pyplot as plt\n",
    "import copy\n",
    "from scipy.linalg import expm, sinm, cosm, null_space\n",
    "from scipy.signal import convolve2d\n",
    "np.seterr(divide='ignore',invalid='ignore')"
   ]
  },
  {
   "cell_type": "code",
   "execution_count": 2,
   "metadata": {},
   "outputs": [],
   "source": [
    "precission = 0.001\n",
    "normalize = False"
   ]
  },
  {
   "cell_type": "code",
   "execution_count": 3,
   "metadata": {},
   "outputs": [],
   "source": [
    "class experiment():\n",
    "\n",
    "    def __init__(self):\n",
    "        super().__init__()\n",
    "        self.T = 0.08617\n",
    "        self.xrange = 10\n",
    "        self.lt = 0.005\n",
    "        self.ptip = [0,0,0]\n",
    "        self.psample = [0,0,0]\n",
    "        self.atom = {'S':1.5, 'g':2, 'D':2.7, 'E':0.5, 'J':[-0.25], 'U':0, 'w':20}\n",
    "        self.eigenvec = np.array([[-0.1332256,0,0,-0.9910857],\n",
    "                         [0, 0.9829937,0.1836392,0],      \n",
    "                        [0.9910857,0, 0, -0.1332256],\n",
    "                        [0, -0.1836392, 0.9829937,0 ]])\n",
    "        self.eigenval = np.array([0.3270655,0.7447324,5.5422276,6.8859745])\n",
    "        self.position = 1\n",
    "        self.jposition = 1\n",
    "        self.A = 1\n",
    "        self.b = 0\n",
    "        self.x0 = 0\n",
    "        self.y0 = 0\n",
    "        self.B = [0,0,4]\n",
    "        self.matrix = '1'\n",
    "        self.matrixDM = '0,0,0'\n",
    "        self.heisenberg_coupling  = 0\n",
    "        self.sample_entanglemen = True\n",
    "        self.sef = 1\n",
    "        self.paramagnetic = False\n",
    "        self.paramag_S = 2.5\n",
    "        self.paramag_g = 2\n",
    "        self.eta = 0.3\n",
    "        self.no_eval = 1000\n",
    "        self.max_no_eigenstates = 50\n",
    "        self.third_order_calc = True\n",
    "        self.rate_calc = False\n",
    "        self.entanglement = False\n",
    "        self.allatomsequ = 0\n",
    "        self.sw = [True, False, False, True, True, False, True, False, \\\n",
    "                   False, False, True, False, False]\n",
    "        "
   ]
  },
  {
   "cell_type": "code",
   "execution_count": 4,
   "metadata": {},
   "outputs": [],
   "source": [
    "class mycalc():\n",
    "    \n",
    "    def __init__(self):\n",
    "        super().__init__()\n",
    "\n",
    "        self.spec = np.array([])\n",
    "        self.states = np.array([])\n",
    "        self.occ = np.array([])\n",
    "        self.lifetime = np.array([])\n",
    "        self.entropy = np.array([])\n",
    "        self.giantspin = np.array([])\n",
    "        self.negativity = np.array([])\n",
    "        self.spec_raw = np.array([])"
   ]
  },
  {
   "cell_type": "markdown",
   "metadata": {},
   "source": [
    "## Functions for 2nd order Spec"
   ]
  },
  {
   "cell_type": "code",
   "execution_count": 5,
   "metadata": {},
   "outputs": [],
   "source": [
    "def clean(m, esp=1e-10):\n",
    "    m[abs(m)<esp] = 0\n",
    "    return m"
   ]
  },
  {
   "cell_type": "code",
   "execution_count": 6,
   "metadata": {},
   "outputs": [],
   "source": [
    "def sparse(S):\n",
    "    return S"
   ]
  },
  {
   "cell_type": "code",
   "execution_count": 7,
   "metadata": {},
   "outputs": [],
   "source": [
    "def isvector(v):\n",
    "    if np.array(v).ndim == 1:\n",
    "        return True\n",
    "    else:\n",
    "        return False"
   ]
  },
  {
   "cell_type": "code",
   "execution_count": 8,
   "metadata": {},
   "outputs": [],
   "source": [
    "def dmatrix(n):\n",
    "    ss = {'S':0.5}\n",
    "    e=1/2*S1(ss)+n[0]*Sx(ss)+n[1]*Sy(ss)+n[2]*Sz(ss)\n",
    "    return e"
   ]
  },
  {
   "cell_type": "code",
   "execution_count": 32,
   "metadata": {},
   "outputs": [],
   "source": [
    "def spec(m):\n",
    "    d = np.linalg.eig(m)\n",
    "    return d[1], d[0]"
   ]
  },
  {
   "cell_type": "code",
   "execution_count": 10,
   "metadata": {},
   "outputs": [],
   "source": [
    "def Rate2nd2(exp):\n",
    "    [x, y, z, u] = etransport(exp)\n",
    "    E = exp.eigenvec\n",
    "    S = exp.atom\n",
    "    matrxx = Sx(S)\n",
    "    matrxy = Sy(S)\n",
    "    matrxz = Sz(S)\n",
    "    matrxu = S['U']*S1(S)\n",
    "\n",
    "    matrxx = np.dot(np.dot(np.conj(E.T),matrxx),E)\n",
    "    matrxy = np.dot(np.dot(np.conj(E.T),matrxy),E)\n",
    "    matrxz = np.dot(np.dot(np.conj(E.T),matrxz),E)\n",
    "    matrxu = np.dot(np.dot(np.conj(E.T),matrxu),E)\n",
    "    \n",
    "    out = 0\n",
    "    for i in range(4):\n",
    "        out = out + abs(matrxx*x.flatten()[i]+matrxy*y.flatten()[i]+matrxz*z.flatten()[i]+matrxu*u.flatten()[i])\\\n",
    "        *abs(matrxx*x.flatten()[i]+matrxy*y.flatten()[i]+matrxz*z.flatten()[i]+matrxu*u.flatten()[i])\n",
    "    \n",
    "    return out"
   ]
  },
  {
   "cell_type": "code",
   "execution_count": 11,
   "metadata": {},
   "outputs": [],
   "source": [
    "def etransport(exp):\n",
    "    e = {'S':0.5}\n",
    "    dt=dmatrix(exp.ptip)\n",
    "    ds=dmatrix(exp.psample)\n",
    "    wt,pt=spec(dt)\n",
    "    ws,ps=spec(ds)\n",
    "    \n",
    "    ps = ps[:, np.newaxis]\n",
    "    pt = pt[:, np.newaxis]\n",
    "    pp=np.sqrt(np.kron(ps, np.conj(pt.T)))\n",
    "\n",
    "    x=np.dot(np.conj(ws.T),np.dot(2*Sx(e),wt))*pp\n",
    "    y=np.dot(np.conj(ws.T),np.dot(2*Sy(e),wt))*pp\n",
    "    z=np.dot(np.conj(ws.T),np.dot(2*Sz(e),wt))*pp\n",
    "    u=-2*np.dot(np.conj(ws.T),wt)*pp\n",
    "#     print('--x\\n',x,'\\n--y\\n',y,'\\n--z\\n',z,'\\n--u\\n',u)\n",
    "    return x,y,z,u"
   ]
  },
  {
   "cell_type": "code",
   "execution_count": 12,
   "metadata": {},
   "outputs": [],
   "source": [
    "def Splus(S):\n",
    "    a = np.arange(1,2*S['S']+1)\n",
    "    b = np.arange(2*S['S'],0,-1)\n",
    "    e = np.sqrt(a*b)\n",
    "    ee = diag(e,1)\n",
    "    return ee\n",
    "\n",
    "def Sminus(S):\n",
    "    a = np.arange(1,2*S['S']+1)\n",
    "    b = np.arange(2*S['S'],0,-1)\n",
    "    e = np.sqrt(a*b)\n",
    "    ee = diag(e,-1)\n",
    "    return ee\n",
    "\n",
    "def Sx(S):\n",
    "    return 0.5*(Splus(S)+Sminus(S))\n",
    "def Sy(S):\n",
    "    return -0.5*1j*(Splus(S)-Sminus(S))\n",
    "def Sz(S):\n",
    "    return diag(np.arange(S['S'],-S['S']-1,-1))\n",
    "def S1(S):\n",
    "    return diag(np.ones((int(S['S']*2)+1,1)).flatten().tolist())"
   ]
  },
  {
   "cell_type": "code",
   "execution_count": 33,
   "metadata": {},
   "outputs": [
    {
     "name": "stdout",
     "output_type": "stream",
     "text": [
      "[[1. 0. 0. 0.]\n",
      " [0. 1. 0. 0.]\n",
      " [0. 0. 1. 0.]\n",
      " [0. 0. 0. 1.]]\n"
     ]
    }
   ],
   "source": [
    "print(S1(exp.atom))"
   ]
  },
  {
   "cell_type": "code",
   "execution_count": 13,
   "metadata": {},
   "outputs": [],
   "source": [
    "def diag(evals, k=0):\n",
    "    e = np.zeros((len(evals)+abs(k),len(evals)+abs(k)))\n",
    "    for i in range(e.shape[0]):\n",
    "        if i+k<=e.shape[0]-1 and i+k>=0:\n",
    "            e[i,i+k] = evals[i+k] if k<=0 else evals[i]\n",
    "        else:\n",
    "            continue\n",
    "    return e"
   ]
  },
  {
   "cell_type": "code",
   "execution_count": 14,
   "metadata": {},
   "outputs": [],
   "source": [
    "def Occupation(ve, T):\n",
    "    ve = np.real(ve)\n",
    "    if ve.ndim > 1 and ve.shape[0] == ve.shape[1]:\n",
    "        ve = diag(ve)\n",
    "    ve = ve - np.min(ve)\n",
    "    if T != 0:\n",
    "        e = np.exp(-ve/T)\n",
    "        e = e / np.sum(e)\n",
    "    else:\n",
    "        bb = ve.shape\n",
    "        e[:bb[0]+1] = 0\n",
    "        k = np.min(ve)\n",
    "        e[ve.tolist().index(k)] = 1\n",
    "        e = e / np.sum(e)\n",
    "    \n",
    "    return e"
   ]
  },
  {
   "cell_type": "code",
   "execution_count": 15,
   "metadata": {},
   "outputs": [],
   "source": [
    "def fstep(x):\n",
    "    x = clean(x, 1e-5)\n",
    "    z = np.exp(x)\n",
    "    y = (1+(x-1)*z)/((z-1)*(z-1))\n",
    "    y[y==0] = 0.5\n",
    "    y[np.isnan(y)] = 0\n",
    "    return y"
   ]
  },
  {
   "cell_type": "code",
   "execution_count": 16,
   "metadata": {},
   "outputs": [],
   "source": [
    "def spec2(exp):\n",
    "    ve = np.real(exp.eigenval)\n",
    "    if len(ve.shape) > 1 and ve.shape[0] == ve.shape[1]:\n",
    "        d = np.linalg.eig(ve)[1]\n",
    "        ve = np.dot(np.dot(np.linalg.inv(d),ve),d)\n",
    "    ve = ve-np.min(np.real(ve))\n",
    "    occ = Occupation(ve, exp.T)\n",
    "    rate = np.conj(Rate2nd2(exp).T)\n",
    "    rateneg = np.conj(rate.T)\n",
    "    \n",
    "    if isvector(exp.xrange):\n",
    "        x = exp.xrange\n",
    "    else:\n",
    "        x = np.conj(np.linspace(abs(exp.xrange),-abs(exp.xrange),1000).T)\n",
    "        \n",
    "    y = 0\n",
    "    a = exp.eigenvec.shape\n",
    "    for i in range(a[1]):\n",
    "        if occ[i] > precission:\n",
    "            for j in range(a[1]):\n",
    "                en = (ve[j]-ve[i]-x)/abs(exp.T)\n",
    "                ep = (ve[j]-ve[i]+x)/abs(exp.T)\n",
    "                ytemp = occ[i]*(rate[i,j]*fstep(ep)+rateneg[i,j]*fstep(en))\n",
    "                y = y+ytemp\n",
    "                \n",
    "    return x, y "
   ]
  },
  {
   "cell_type": "code",
   "execution_count": 17,
   "metadata": {},
   "outputs": [
    {
     "name": "stdout",
     "output_type": "stream",
     "text": [
      "[[1.+0.j 0.+0.j]\n",
      " [0.+0.j 1.+0.j]] [0.5+0.j 0.5+0.j]\n",
      "[[1.+0.j 0.+0.j]\n",
      " [0.+0.j 1.+0.j]] [0.5+0.j 0.5+0.j]\n"
     ]
    },
    {
     "data": {
      "image/png": "[encoded data removed]",
      "text/plain": [
       "<Figure size 432x288 with 1 Axes>"
      ]
     },
     "metadata": {
      "needs_background": "light"
     },
     "output_type": "display_data"
    }
   ],
   "source": [
    "exp = experiment()\n",
    "x, y = spec2(exp)\n",
    "plt.plot(x,np.real(y))\n",
    "plt.show()"
   ]
  },
  {
   "cell_type": "markdown",
   "metadata": {},
   "source": [
    "## Functions for 3rd order Spec"
   ]
  },
  {
   "cell_type": "code",
   "execution_count": 18,
   "metadata": {},
   "outputs": [],
   "source": [
    "def conv2(image, kernel, bias=0):\n",
    "    m, n = kernel.shape\n",
    "    if (m == n):\n",
    "        y, x = image.shape\n",
    "        y = y - m + 1\n",
    "        x = x - m + 1\n",
    "        new_image = np.zeros((y,x))\n",
    "        for i in range(y):\n",
    "            for j in range(x):\n",
    "                new_image[i][j] = np.sum(image[i:i+m, j:j+m]*kernel) + bias\n",
    "    return new_image"
   ]
  },
  {
   "cell_type": "code",
   "execution_count": 19,
   "metadata": {},
   "outputs": [],
   "source": [
    "def M35(exp, index):\n",
    "    E = exp.eigenvec; a=E.shape\n",
    "    [e_sig, er_sig, en_sig, enr_sig] = e_epsilon(exp)\n",
    "    if not isvector(exp.atom):\n",
    "        S = exp.atom\n",
    "        matrxx = np.dot(np.dot(np.conj(E.T),Sx(S)),E)\n",
    "        matrxy = np.dot(np.dot(np.conj(E.T),Sy(S)),E)\n",
    "        matrxz = np.dot(np.dot(np.conj(E.T),Sz(S)),E)\n",
    "        matrxu = np.dot(np.dot(np.dot(S['U'],np.conj(E.T)),S1(S)),E)\n",
    "        \n",
    "        J = [0] * 3      \n",
    "        if len(S['J']) == 1:\n",
    "            J[0] = S['J']; J[1] = S['J']; J[2] = S['J']\n",
    "        else:\n",
    "            J = S['J']\n",
    "        \n",
    "        Smatrxx = J[0]*matrxx\n",
    "        Smatrxy = J[1]*matrxy\n",
    "        Smatrxz = J[2]*matrxz\n",
    "        Smatrxu = np.zeros(Smatrxx.shape)\n",
    "#     else:\n",
    "#         if exp.entanglement == None:\n",
    "#             exp.entanglement = False\n",
    "            \n",
    "#         nr = exp.position\n",
    "#         nrj = exp.jposition\n",
    "#         natoms = 1  #!!!!\n",
    "#         matrxx = 1\n",
    "#         matrxx = np.kron(matrxx, sparse(S1(exp.atom)))# !!!\n",
    " \n",
    "#         matrxy = matrxx\n",
    "#         matrxz = matrxx\n",
    "#         matrxu = matrxx\n",
    "    mone = np.ones((1, a[1]))\n",
    "    \n",
    "    so1 = [matrxx, matrxy, matrxz, matrxu]\n",
    "    so2 = [Smatrxx, Smatrxy, Smatrxz, Smatrxu]\n",
    "    so3 = so1\n",
    "    e = 0; er = 0; en = 0; enr = 0\n",
    "    for j in range(4):\n",
    "        for k in range(4):\n",
    "            for l in range(4):\n",
    "                if e_sig[j, k, l] != 0:  # index!!!so1[j,:,index]\n",
    "                    e = e - np.dot(e_sig[j, k, l], np.kron(np.conj(mone.T), so3[l][index, :][np.newaxis, :])) * \\\n",
    "                        (so2[k].T * np.kron(mone, so1[j][:, index][:, np.newaxis]))\n",
    "                if er_sig[j, k, l] != 0:\n",
    "                    er = er - np.dot(er_sig[j, k, l], np.kron(np.conj(mone.T), so3[l][index, :][np.newaxis, :])) * \\\n",
    "                         (so1[k].T * np.kron(mone, so2[j][:, index][:, np.newaxis]))\n",
    "                if en_sig[j, k, l] != 0:\n",
    "                    en = en - np.dot(en_sig[j, k, l], np.kron(np.conj(mone.T), so1[l][index, :][np.newaxis, :])) * \\\n",
    "                         (so2[k].T * np.kron(mone, so3[j][:, index][:, np.newaxis]))\n",
    "                if enr_sig[j, k, l] != 0:\n",
    "                    enr = enr - np.dot(enr_sig[j, k, l], np.kron(np.conj(mone.T), so1[l][index, :][np.newaxis, :])) * \\\n",
    "                          (so3[k].T * np.kron(mone, so2[j][:, index][:, np.newaxis]))\n",
    "    \n",
    "    e = clean(e)\n",
    "    er = clean(er)\n",
    "    en = clean(en)\n",
    "    enr = clean(enr)\n",
    "    \n",
    "    return e, er, en, enr\n",
    "        "
   ]
  },
  {
   "cell_type": "code",
   "execution_count": 20,
   "metadata": {},
   "outputs": [],
   "source": [
    "def e_epsilon(exp):\n",
    "    x,y,z,u = etransport(exp)\n",
    "    \n",
    "    texp = copy.deepcopy(exp)\n",
    "    texp.ptip = copy.deepcopy(texp.psample)\n",
    "    xs,ys,zs,us = etransport(texp)\n",
    "    # need to build new axis for x, y,z!!!\n",
    "    mone = np.ones((1,2))\n",
    "    so1 = [x,y,z,u]\n",
    "    so2 = [xs, ys, zs, us]\n",
    "    so3 = [np.conj(x.T), np.conj(y.T), np.conj(z.T), np.conj(u.T)]\n",
    "    e = np.zeros((4,4,4), dtype = 'complex_')\n",
    "    er = copy.deepcopy(e); en = copy.deepcopy(e); enr = copy.deepcopy(e)\n",
    "    for j in range(4):\n",
    "        for k in range(4):\n",
    "            for l in range(4):\n",
    "                for index in range(2):\n",
    "                    temp = np.kron(np.conj(mone.T), so3[l][index, :][np.newaxis, :]) * (so2[k].T * np.kron(mone, so1[j][:, index][:, np.newaxis]))\n",
    "                    e[j, k, l] = e[j, k, l] + np.sum(temp)\n",
    "                    temp = -np.kron(np.conj(mone.T), so3[l][index, :][np.newaxis, :]) * (np.kron(mone, so1[k][:, index][:, np.newaxis]) * so2[j].T)\n",
    "                    er[j, k, l] = er[j, k, l] + np.sum(temp)\n",
    "                    temp = -np.kron(mone, so1[l][:, index][:, np.newaxis]) * (so2[k].T * np.kron(np.conj(mone.T), so3[j][index, :][np.newaxis, :]))\n",
    "                    en[j, k, l] = en[j, k, l] + np.sum(temp)\n",
    "                    temp = np.kron(mone, so1[l][:, index][:, np.newaxis]) * (np.kron(np.conj(mone.T), so3[k][index, :][np.newaxis, :]) * so2[j].T)\n",
    "                    enr[j, k, l] = enr[j, k, l] + np.sum(temp)\n",
    "                    \n",
    "    return e, er, en, enr"
   ]
  },
  {
   "cell_type": "markdown",
   "metadata": {},
   "source": [
    "        d = np.linalg.eig(ve)[1]\n",
    "        ve = np.dot(np.dot(np.linalg.inv(d),ve),d)"
   ]
  },
  {
   "cell_type": "code",
   "execution_count": 21,
   "metadata": {},
   "outputs": [],
   "source": [
    "def ln_t2(x, e0, T, lt):\n",
    "    yspan = x[0]-x[-1]; ycenter = (x[0]+x[-1])/2\n",
    "    i = 2*x.shape[0]\n",
    "    y = np.linspace(ycenter+yspan,ycenter-yspan,i+1)\n",
    "    g = np.log((e0+abs(y-ycenter))/(y-ycenter+lt*1j))+np.pi*1j/2\n",
    "    z = x/T\n",
    "    k = np.argwhere(abs(z)<1e-3)\n",
    "    ez = np.exp(z)\n",
    "    f = -((ez+ez*(z-1))*np.power((ez-1),-2.)-2*ez*(ez*(z-1)+1)*np.power((ez-1),-3.))\n",
    "    f[k] = 1/6\n",
    "    f[np.isnan(f)] = 0\n",
    "#     print(f.shape, g.shape)\n",
    "#     print(f[:,np.newaxis].shape, g[:,np.newaxis].shape)\n",
    "    e = 2*convolve2d(f[:,np.newaxis],g[:,np.newaxis],'same')/(T*i)*abs(yspan)\n",
    "\n",
    "    #e = 2*np.convolve(f.flatten(),g.flatten(),'same')/(T*i)*abs(yspan)\n",
    "    return e"
   ]
  },
  {
   "cell_type": "code",
   "execution_count": 22,
   "metadata": {},
   "outputs": [],
   "source": [
    "def spec3(exp, index):\n",
    "    if exp.jposition == None:\n",
    "        exp.jposition = exp.position\n",
    "    \n",
    "    occ = Occupation(np.real(exp.eigenval),exp.T)\n",
    "    ve = exp.eigenval\n",
    "    if len(ve.shape) > 1 and ve.shape[0] == ve.shape[1]:\n",
    "        d = np.linalg.eig(ve)[1]\n",
    "        ve = np.dot(np.dot(np.linalg.inv(d),ve),d)\n",
    "    ve = ve-np.min(np.real(ve))\n",
    "    \n",
    "    rate, rater, raten, ratenr = M35(exp, index)\n",
    "    \n",
    "    if isvector(exp.xrange):\n",
    "        x = exp.xrange\n",
    "    else:\n",
    "        x = np.conj(np.linspace(abs(exp.xrange),-abs(exp.xrange),1000).T)\n",
    "        \n",
    "    y = np.zeros(x.shape);  yn = np.zeros(x.shape)\n",
    "    yr = np.zeros(x.shape);  ynr = np.zeros(x.shape)\n",
    "    a = exp.eigenvec.shape\n",
    "    for mid in range(a[1]):\n",
    "        for fin in range(a[1]):\n",
    "            # need to modify for multiple atoms!!!\n",
    "            if (abs(rate[mid, fin]) + abs(raten[mid, fin]) + \\\n",
    "                    abs(rater[mid, fin]) + abs(ratenr[mid, fin])) > precission ** 2:\n",
    "                tlog1 = ln_t2(ve[mid] - ve[index] + x, exp.atom['w'], exp.T, exp.lt)\n",
    "                tlog2 = ln_t2(ve[mid] - ve[index] - x, exp.atom['w'], exp.T, exp.lt)\n",
    "\n",
    "                en = fstep((ve[fin] - ve[index] - x) / exp.T)[:,np.newaxis]\n",
    "                ep = fstep((ve[fin] - ve[index] + x) / exp.T)[:,np.newaxis]\n",
    "\n",
    "                ytemp = -occ[index] * 2 * np.real(rate[mid, fin] * ep * tlog1)\n",
    "                ytempn = -occ[index] * 2 * np.real(raten[mid, fin] * en * tlog2)\n",
    "          \n",
    "                ytempr = -occ[index] * 2 * np.real(rater[mid, fin] * ep * tlog2)\n",
    "                ytempnr = -occ[index] * 2 * np.real(ratenr[mid, fin] * en * tlog1)\n",
    "\n",
    "                y = y.flatten() + ytemp.flatten() + ytempn.flatten()\n",
    "                yr = yr.flatten() + ytempr.flatten() + ytempnr.flatten()\n",
    "                \n",
    "    return x, y, yr"
   ]
  },
  {
   "cell_type": "code",
   "execution_count": 23,
   "metadata": {
    "scrolled": true
   },
   "outputs": [
    {
     "name": "stdout",
     "output_type": "stream",
     "text": [
      "[[1.+0.j 0.+0.j]\n",
      " [0.+0.j 1.+0.j]] [0.5+0.j 0.5+0.j]\n",
      "[[1.+0.j 0.+0.j]\n",
      " [0.+0.j 1.+0.j]] [0.5+0.j 0.5+0.j]\n",
      "[[1.+0.j 0.+0.j]\n",
      " [0.+0.j 1.+0.j]] [0.5+0.j 0.5+0.j]\n",
      "[[1.+0.j 0.+0.j]\n",
      " [0.+0.j 1.+0.j]] [0.5+0.j 0.5+0.j]\n",
      "[[1.+0.j 0.+0.j]\n",
      " [0.+0.j 1.+0.j]] [0.5+0.j 0.5+0.j]\n",
      "[[1.+0.j 0.+0.j]\n",
      " [0.+0.j 1.+0.j]] [0.5+0.j 0.5+0.j]\n",
      "[[1.+0.j 0.+0.j]\n",
      " [0.+0.j 1.+0.j]] [0.5+0.j 0.5+0.j]\n",
      "[[1.+0.j 0.+0.j]\n",
      " [0.+0.j 1.+0.j]] [0.5+0.j 0.5+0.j]\n",
      "[[1.+0.j 0.+0.j]\n",
      " [0.+0.j 1.+0.j]] [0.5+0.j 0.5+0.j]\n",
      "[[1.+0.j 0.+0.j]\n",
      " [0.+0.j 1.+0.j]] [0.5+0.j 0.5+0.j]\n"
     ]
    },
    {
     "data": {
      "image/png": "[encoded data removed]",
      "text/plain": [
       "<Figure size 432x288 with 1 Axes>"
      ]
     },
     "metadata": {
      "needs_background": "light"
     },
     "output_type": "display_data"
    }
   ],
   "source": [
    "exp = experiment()\n",
    "\n",
    "nbr_of_atoms = 1\n",
    "nbr_of_states = exp.eigenvec.shape[1]\n",
    "maxcnt = nbr_of_states * nbr_of_atoms\n",
    "cnt = 0; daty = []\n",
    "occ = Occupation(exp.eigenval,exp.T)\n",
    "for atnr in range(nbr_of_atoms):\n",
    "    exp.position = atnr\n",
    "    exp.jposition = exp.position\n",
    "    # second order calculation\n",
    "    x, y = spec2(exp)\n",
    "    # third order calculation\n",
    "    y2 = 0\n",
    "    for i in range(exp.eigenvec.shape[1]):\n",
    "        if occ[i] > precission:\n",
    "            x, yl, ylr = spec3(exp, i)\n",
    "            y2 = y2+(yl+ylr)\n",
    "#             print(y2.shape, yl.shape, ylr.shape)\n",
    "        cnt = cnt+1\n",
    "daty = [daty, y+y2]\n",
    "\n",
    "# print(y.shape, y2.shape)\n",
    "plt.plot(x, y+y2)\n",
    "plt.show()"
   ]
  },
  {
   "cell_type": "markdown",
   "metadata": {},
   "source": [
    "## Functions for rate calculation"
   ]
  },
  {
   "cell_type": "code",
   "execution_count": 24,
   "metadata": {},
   "outputs": [],
   "source": [
    "def kernel(m):\n",
    "    return null_space(m)"
   ]
  },
  {
   "cell_type": "code",
   "execution_count": 25,
   "metadata": {},
   "outputs": [],
   "source": [
    "def fbox(x):\n",
    "    x = clean(x, 1e-8)\n",
    "    y = x/(1-np.exp(-x))\n",
    "    y[np.isnan(y)] = 1\n",
    "    return y"
   ]
  },
  {
   "cell_type": "code",
   "execution_count": 26,
   "metadata": {},
   "outputs": [],
   "source": [
    "def fstep_simple(x):\n",
    "    return np.power((np.exp(x)+1), -1.)"
   ]
  },
  {
   "cell_type": "code",
   "execution_count": 27,
   "metadata": {},
   "outputs": [],
   "source": [
    "def spec3rate(exp):\n",
    "    if exp.jposition == None:\n",
    "        exp.jposition = exp.position\n",
    "        \n",
    "    ve = exp.eigenval\n",
    "    if len(ve.shape) > 1 and ve.shape[0] == ve.shape[1]:\n",
    "        d = np.linalg.eig(ve)[1]\n",
    "        ve = np.dot(np.dot(np.linalg.inv(d),ve),d)\n",
    "    ve = ve-np.min(np.real(ve))\n",
    "    \n",
    "    a = exp.eigenvec.shape\n",
    "    \n",
    "    if isvector(exp.xrange):\n",
    "        rnge = np.max(abs(exp.xrange))\n",
    "    else:\n",
    "        rnge = (2*exp.xrange)/999*999.5\n",
    "\n",
    "    x = np.linspace(rnge, -rnge, 2000)\n",
    "\n",
    "    out = np.zeros((a[1], a[1], 1000))\n",
    "    outn = np.zeros((a[1],a[1],1000))\n",
    "    \n",
    "    yspan = (x[0]-x[-1])/2; ycenter = (x[0]+x[-1])/2\n",
    "    i = x.shape[0]\n",
    "    y = np.linspace(ycenter+yspan, ycenter-yspan, i+1)[np.newaxis,:]#1.    2001.  \n",
    "    xkernel = fstep_simple(y/exp.T) #1.    2001.  \n",
    "    \n",
    "    for index in range(a[1]):\n",
    "        [rate, rater, raten, ratenr] = M35(exp, index)\n",
    "        for fin in range(a[1]):\n",
    "            yp = np.zeros(x.shape); ypr = np.zeros(x.shape)\n",
    "            yn = np.zeros(x.shape); ynr = np.zeros(x.shape)\n",
    "            for mid in range(a[1]):\n",
    "                if abs(rate[mid,fin]) + abs(raten[mid,fin]) \\\n",
    "                    + abs(rater[mid,fin]) + abs(ratenr[mid,fin]) > precission**2:\n",
    "                    # need to modify for multiple atoms !!!\n",
    "          \n",
    "                    tlog1 = ln_t2(ve[mid]-ve[index]+x, exp.atom['w'], exp.T, exp.lt)\n",
    "                    tlog2 = ln_t2(ve[mid]-ve[index]-x, exp.atom['w'], exp.T, exp.lt)\n",
    "     \n",
    "                    en = fstep_simple((ve[fin]-ve[index]-x)/exp.T)[:,np.newaxis]\n",
    "                    ep = fstep_simple((ve[fin]-ve[index]+x)/exp.T)[:,np.newaxis]\n",
    "        \n",
    "                    ytemp = -2*np.real(rate[mid,fin]*ep*tlog1)\n",
    "                    ytempn = -2*np.real(raten[mid,fin]*en*tlog2)\n",
    "                    ytempr = -2*np.real(rater[mid,fin]*ep*tlog2)\n",
    "                    ytempnr = -2*np.real(ratenr[mid,fin]*en*tlog1)\n",
    "\n",
    "                    yp = yp.flatten()+ytemp.flatten()\n",
    "                    yn = yn.flatten()+ytempn.flatten()\n",
    "                    ypr = ypr.flatten()+ytempr.flatten()\n",
    "                    ynr = ynr.flatten()+ytempnr.flatten()\n",
    "#                     print(mid,fin,index)\n",
    "                    \n",
    "            z = convolve2d((-yp-ypr)[:,np.newaxis],xkernel.flatten()[:,np.newaxis],'same')/1000*np.max(x)\n",
    "            out[fin,index,:] = z[500:1500].flatten()\n",
    "            zn = convolve2d((-yn[::-1]-ynr[::-1])[:,np.newaxis], xkernel.flatten()[:,np.newaxis],'same')/1000*np.max(x) \n",
    "            outn[fin,index,:] = zn[1499:499:-1].flatten()\n",
    "#     print(ytemp.shape, ytemp[0], ytemp[-1])\n",
    "#     print(ytempn.shape, ytempn[0], ytempn[-1])\n",
    "    return out, outn"
   ]
  },
  {
   "cell_type": "code",
   "execution_count": 28,
   "metadata": {},
   "outputs": [],
   "source": [
    "def spec3rate_ss(exp):\n",
    "    if exp.jposition == None:\n",
    "        exp.jposition = exp.position\n",
    "        \n",
    "    ve = exp.eigenval\n",
    "    if len(ve.shape) > 1 and ve.shape[0] == ve.shape[1]:\n",
    "        d = np.linalg.eig(ve)[1]\n",
    "        ve = np.dot(np.dot(np.linalg.inv(d),ve),d)\n",
    "    ve = ve-np.min(np.real(ve))\n",
    "    \n",
    "    a = exp.eigenvec.shape[1]\n",
    "    \n",
    "    xrange = np.max((2*ve+20*exp.T).tolist()+[20*exp.T]) #max !!!\n",
    "    xpoints = int(np.floor(np.max([xrange/exp.T, 1000]))) #floor!!!\n",
    "    x = np.linspace(-xrange,xrange,xpoints)\n",
    "    \n",
    "    f0 = fstep_simple(x/exp.T)\n",
    "    \n",
    "    tempexp = copy.deepcopy(exp)\n",
    "    tempexp.ptip = tempexp.psample\n",
    "    tempexp.atom['U'] = 0 #!!!\n",
    "    \n",
    "    out = np.zeros((a,a))\n",
    "    for index in range(a):\n",
    "        [rate, rater, raten, ratenr] = M35(tempexp, index)\n",
    "        \n",
    "        for mid in range(a):\n",
    "            if np.sum(abs(rate[mid,:]) + abs(rater[mid,:])) > precission**2:\n",
    "                #!!!\n",
    "                tlog1 = ln_t2(ve[mid]-ve[index]+x, exp.atom['w'], exp.T, exp.lt)\n",
    "                tlog2 = tlog1[-1:-1:-1]#!!!\n",
    "                \n",
    "                for fin in range(a):\n",
    "                    en = fstep_simple((ve[fin]-ve[index]-x)/exp.T)\n",
    "                    # en  f0 shape!!!\n",
    "                    ytemp = np.sum(-2*np.real(rate[mid,fin]*np.conj(en.T)*tlog2*np.conj(f0.T)))\n",
    "                    ytempr = np.sum(-2*np.real(rater[mid,fin]*np.conj(en)*tlog1*np.conj(f0.T)))\n",
    "                    \n",
    "                    out[fin,index] = out[fin,index]+(ytemp+ytempr)*2*xrange/(xpoints-1)\n",
    "                \n",
    "    return out\n",
    "                    "
   ]
  },
  {
   "cell_type": "code",
   "execution_count": 29,
   "metadata": {},
   "outputs": [
    {
     "name": "stdout",
     "output_type": "stream",
     "text": [
      "[[1.+0.j 0.+0.j]\n",
      " [0.+0.j 1.+0.j]] [0.5+0.j 0.5+0.j]\n",
      "[[1.+0.j 0.+0.j]\n",
      " [0.+0.j 1.+0.j]] [0.5+0.j 0.5+0.j]\n",
      "[[1.+0.j 0.+0.j]\n",
      " [0.+0.j 1.+0.j]] [0.5+0.j 0.5+0.j]\n",
      "[[1.+0.j 0.+0.j]\n",
      " [0.+0.j 1.+0.j]] [0.5+0.j 0.5+0.j]\n"
     ]
    },
    {
     "data": {
      "image/png": "[encoded data removed]",
      "text/plain": [
       "<Figure size 432x288 with 1 Axes>"
      ]
     },
     "metadata": {
      "needs_background": "light"
     },
     "output_type": "display_data"
    }
   ],
   "source": [
    "calc = mycalc()\n",
    "J2_ts = exp.A\n",
    "ve = np.real(exp.eigenval)\n",
    "if ve.ndim > 1 and ve.shape[0] == ve.shape[1]:\n",
    "    ve = diag(ve)\n",
    "ve = (ve-np.min(np.real(ve)))[:,np.newaxis]\n",
    "if ve.shape[0] == 1:\n",
    "    ve = np.conj(ve.T)\n",
    "\n",
    "ediff = np.kron(np.conj(np.ones((1,ve.shape[0])).T), np.conj(ve.T)) - np.kron(np.ones((1,ve.shape[0])), ve)\n",
    "y = np.zeros((1000, nbr_of_states))\n",
    "I = np.zeros((1000,1)); ltime = np.zeros((1000, nbr_of_states))\n",
    "\n",
    "set_val = 1\n",
    "exp.position = set_val #gui.sel_spin2.value\n",
    "exp.jposition = set_val #gui.sel_spin2.value\n",
    "\n",
    "rate_ts = Rate2nd2(exp)\n",
    "rate_st = np.conj(rate_ts.T)\n",
    "\n",
    "texp = copy.deepcopy(exp)\n",
    "texp.ptip = copy.deepcopy(exp.psample)\n",
    "texp.atom['U'] = 0 # need to modify for multiple atoms!!!\n",
    "\n",
    "rate_ss = texp.atom['J'][0]**2*np.conj(Rate2nd2(texp).T)# need to modify for multiple atoms!!!\n",
    "rate2_ss = (fbox((ediff)/exp.T)*exp.T)*rate_ss\n",
    "\n",
    "calc_3rd = False #!!!\n",
    "if calc_3rd:\n",
    "    exp.jposition = exp.position\n",
    "    rate3_st, rate3_ts = spec3rate(exp)\n",
    "    rate3_ts = -rate3_ts\n",
    "    rate3_ss = spec3rate_ss(exp) * exp.atom['J'][0]**2\n",
    "\n",
    "    # need to check .*!!!\n",
    "    rate3_ts = rate3_ts*J2_ts\n",
    "    rate3_st = -rate3_st*J2_ts\n",
    "\n",
    "\n",
    "i = 0\n",
    "x = np.linspace(exp.xrange, -exp.xrange, 1000)\n",
    "for U in x:\n",
    " \n",
    "    rate2_ts = J2_ts*fbox((ediff+U)/exp.T)*exp.T*rate_ts\n",
    "    rate2_st = J2_ts*fbox((ediff-U)/exp.T)*exp.T*rate_st\n",
    "    \n",
    "    if calc_3rd:\n",
    "        rate2 = rate2_ss + rate3_ss + rate2_ts + rate2_st \\\n",
    "                + rate3_ts[:,:,i] + rate3_st[:,:,i]\n",
    "    else:\n",
    "        rate2 = rate2_ss + rate2_ts + rate2_st\n",
    "        \n",
    "    rate21 = rate2-np.eye(rate2.shape[0],rate2.shape[1])*rate2 - diag(np.sum(rate2 - np.eye(rate2.shape[0],rate2.shape[1])*rate2,0))\n",
    "    ststsol = kernel(rate21)\n",
    "    sc = np.sum(ststsol,0);\n",
    "    stst = ststsol[:,0]/sc[0]\n",
    "    \n",
    "    y[i,:] = np.conj(stst.T)\n",
    "    \n",
    "    ltime[i,:] = np.sum(rate21-rate21*np.eye(rate21.shape[0],rate21.shape[1]), 0)\n",
    "    if calc_3rd:\n",
    "        \n",
    "        I[i] = np.sum(np.dot(rate2_ts, stst)) - np.sum(np.dot(rate2_st, stst)) \\\n",
    "                + np.sum(np.dot(rate3_ts[:,:,i], stst)) - np.sum(np.dot(rate3_st[:,:,i], stst))\n",
    "    else:\n",
    "        I[i] = np.sum(np.dot(rate2_ts,stst)) - np.sum(np.dot(rate2_st,stst))\n",
    "    \n",
    "    i = i+1\n",
    "    \n",
    "\n",
    "di = -(I[1:]-I[:-1])*500/exp.xrange\n",
    "xx = x-exp.xrange/999\n",
    "xx = xx[:-1]\n",
    "di = di/exp.A\n",
    "\n",
    "calc.spec_raw = np.vstack((np.conj(xx.T),di.flatten())).T\n",
    "\n",
    "calc.occ = [np.conj(x.T),y]\n",
    "calc.lifetime = [np.conj(x.T),np.power(ltime,-1.) *6.582e-13*2]\n",
    "                \n",
    "if len(calc.spec) == 0:\n",
    "    if not exp.rate_calc:\n",
    "        if normalize:\n",
    "            atnr = exp.position\n",
    "            # need to modify for multiple atoms !!!\n",
    "            scale = 2*np.power(exp.atom['S']*(exp.atom['S']+1) + np.power(exp.atom['U'], 2.),-1.)\n",
    "        else:\n",
    "            scale=exp.A\n",
    "    else:\n",
    "        if normalize:\n",
    "            scale=1\n",
    "        else:\n",
    "            scale=experiment.A\n",
    "            \n",
    "    calc.spec = calc.spec_raw[:,0]+exp.x0\n",
    "    for i in range(1,calc.spec_raw.shape[1]):\n",
    "        calc.spec = np.vstack((calc.spec, (calc.spec_raw[:,i] + exp.y0 + exp.b * calc.spec_raw[:,0]) *scale))\n",
    "\n",
    "plt.plot(calc.spec[0,:],calc.spec[1,:])\n",
    "plt.show()"
   ]
  },
  {
   "cell_type": "markdown",
   "metadata": {},
   "source": [
    "## Eample Co/CuN"
   ]
  },
  {
   "cell_type": "code",
   "execution_count": 30,
   "metadata": {
    "scrolled": true
   },
   "outputs": [
    {
     "name": "stdout",
     "output_type": "stream",
     "text": [
      "(1000, 2)\n"
     ]
    },
    {
     "data": {
      "image/png": "[encoded data removed]",
      "text/plain": [
       "<Figure size 432x288 with 1 Axes>"
      ]
     },
     "metadata": {
      "needs_background": "light"
     },
     "output_type": "display_data"
    }
   ],
   "source": [
    "data = np.loadtxt('./co.dat')\n",
    "print(data.shape)\n",
    "xx = data[:,0]; yy=data[:,1]\n",
    "plt.plot(xx,yy)\n",
    "plt.show()"
   ]
  },
  {
   "cell_type": "markdown",
   "metadata": {},
   "source": [
    "### Draft"
   ]
  },
  {
   "cell_type": "code",
   "execution_count": 31,
   "metadata": {
    "scrolled": true
   },
   "outputs": [
    {
     "data": {
      "image/png": "[encoded data removed]",
      "text/plain": [
       "<Figure size 432x288 with 1 Axes>"
      ]
     },
     "metadata": {
      "needs_background": "light"
     },
     "output_type": "display_data"
    },
    {
     "name": "stdout",
     "output_type": "stream",
     "text": [
      "[6.06336153e-01 3.93663847e-01 8.02603526e-17 0.00000000e+00]\n"
     ]
    },
    {
     "ename": "NameError",
     "evalue": "name 'rate' is not defined",
     "output_type": "error",
     "traceback": [
      "\u001b[1;31m---------------------------------------------------------------------------\u001b[0m",
      "\u001b[1;31mNameError\u001b[0m                                 Traceback (most recent call last)",
      "\u001b[1;32m<ipython-input-31-3ca002326990>\u001b[0m in \u001b[0;36m<module>\u001b[1;34m\u001b[0m\n\u001b[0;32m     24\u001b[0m \u001b[0men\u001b[0m \u001b[1;33m=\u001b[0m \u001b[1;33m(\u001b[0m\u001b[0mve\u001b[0m\u001b[1;33m[\u001b[0m\u001b[0mj\u001b[0m\u001b[1;33m]\u001b[0m\u001b[1;33m-\u001b[0m\u001b[0mve\u001b[0m\u001b[1;33m[\u001b[0m\u001b[0mi\u001b[0m\u001b[1;33m]\u001b[0m\u001b[1;33m-\u001b[0m\u001b[0mx\u001b[0m\u001b[1;33m)\u001b[0m\u001b[1;33m/\u001b[0m\u001b[0mabs\u001b[0m\u001b[1;33m(\u001b[0m\u001b[0mexp\u001b[0m\u001b[1;33m.\u001b[0m\u001b[0mT\u001b[0m\u001b[1;33m)\u001b[0m\u001b[1;33m\u001b[0m\u001b[1;33m\u001b[0m\u001b[0m\n\u001b[0;32m     25\u001b[0m \u001b[0mep\u001b[0m \u001b[1;33m=\u001b[0m \u001b[1;33m(\u001b[0m\u001b[0mve\u001b[0m\u001b[1;33m[\u001b[0m\u001b[0mj\u001b[0m\u001b[1;33m]\u001b[0m\u001b[1;33m-\u001b[0m\u001b[0mve\u001b[0m\u001b[1;33m[\u001b[0m\u001b[0mi\u001b[0m\u001b[1;33m]\u001b[0m\u001b[1;33m+\u001b[0m\u001b[0mx\u001b[0m\u001b[1;33m)\u001b[0m\u001b[1;33m/\u001b[0m\u001b[0mabs\u001b[0m\u001b[1;33m(\u001b[0m\u001b[0mexp\u001b[0m\u001b[1;33m.\u001b[0m\u001b[0mT\u001b[0m\u001b[1;33m)\u001b[0m\u001b[1;33m\u001b[0m\u001b[1;33m\u001b[0m\u001b[0m\n\u001b[1;32m---> 26\u001b[1;33m \u001b[0mytemp\u001b[0m \u001b[1;33m=\u001b[0m \u001b[0mocc\u001b[0m\u001b[1;33m[\u001b[0m\u001b[0mi\u001b[0m\u001b[1;33m]\u001b[0m\u001b[1;33m*\u001b[0m\u001b[1;33m(\u001b[0m\u001b[0mrate\u001b[0m\u001b[1;33m[\u001b[0m\u001b[0mi\u001b[0m\u001b[1;33m,\u001b[0m\u001b[0mj\u001b[0m\u001b[1;33m]\u001b[0m\u001b[1;33m*\u001b[0m\u001b[0mfstep\u001b[0m\u001b[1;33m(\u001b[0m\u001b[0mep\u001b[0m\u001b[1;33m)\u001b[0m\u001b[1;33m+\u001b[0m\u001b[0mrateneg\u001b[0m\u001b[1;33m[\u001b[0m\u001b[0mi\u001b[0m\u001b[1;33m,\u001b[0m\u001b[0mj\u001b[0m\u001b[1;33m]\u001b[0m\u001b[1;33m*\u001b[0m\u001b[0mfstep\u001b[0m\u001b[1;33m(\u001b[0m\u001b[0men\u001b[0m\u001b[1;33m)\u001b[0m\u001b[1;33m)\u001b[0m\u001b[1;33m\u001b[0m\u001b[1;33m\u001b[0m\u001b[0m\n\u001b[0m\u001b[0;32m     27\u001b[0m \u001b[1;31m# y = y+ytemp\u001b[0m\u001b[1;33m\u001b[0m\u001b[1;33m\u001b[0m\u001b[1;33m\u001b[0m\u001b[0m\n\u001b[0;32m     28\u001b[0m \u001b[0mprint\u001b[0m\u001b[1;33m(\u001b[0m\u001b[0mytemp\u001b[0m\u001b[1;33m[\u001b[0m\u001b[1;36m399\u001b[0m\u001b[1;33m]\u001b[0m\u001b[1;33m)\u001b[0m\u001b[1;33m\u001b[0m\u001b[1;33m\u001b[0m\u001b[0m\n",
      "\u001b[1;31mNameError\u001b[0m: name 'rate' is not defined"
     ]
    }
   ],
   "source": [
    "plt.plot(x,np.real(y))\n",
    "plt.show()\n",
    "print(y[399])\n",
    "\n",
    "\n",
    "# ve = np.real(exp.eigenval)\n",
    "# if len(ve.shape) > 1 and ve.shape[0] == ve.shape[1]:\n",
    "#     d = np.linalg.eig(ve)[1]\n",
    "#     ve = np.dot(np.dot(np.linalg.inv(d),ve),d)\n",
    "# ve = ve-np.min(np.real(ve))\n",
    "# occ = Occupation(ve, exp.T)\n",
    "# rate = np.conj(Rate2nd2(exp).T)\n",
    "# rateneg = np.conj(rate.T)\n",
    "\n",
    "# if isvector(exp.xrange):\n",
    "#     x = exp.xrange\n",
    "# else:\n",
    "#     x = np.conj(np.linspace(abs(exp.xrange),-abs(exp.xrange),1000).T)\n",
    "\n",
    "# y = 0\n",
    "# a = exp.eigenvec.shape\n",
    "\n",
    "i=1;j=3\n",
    "en = (ve[j]-ve[i]-x)/abs(exp.T)\n",
    "ep = (ve[j]-ve[i]+x)/abs(exp.T)\n",
    "ytemp = occ[i]*(rate[i,j]*fstep(ep)+rateneg[i,j]*fstep(en))\n",
    "# y = y+ytemp\n",
    "print(ytemp[399])\n",
    "# 0.10704051809022191   1.0146182422150727   1.829131071952448e-15  2.1719116369921174e-23\n",
    "# 0.007966597328811654  0.0007288238699355763  1.4546967751378572e-16  3.916384004960008e-22\n",
    "\n",
    "# print(y[399],  rateneg[3,3], ep[399], ytemp[399], abs(exp.T))\n",
    "# for k in range(a[1]):\n",
    "#     print(occ[k]> precission)"
   ]
  },
  {
   "cell_type": "code",
   "execution_count": null,
   "metadata": {},
   "outputs": [],
   "source": [
    "occ = Occupation(np.real(exp.eigenval),exp.T)\n",
    "ve = exp.eigenval\n",
    "if len(ve.shape) > 1 and ve.shape[0] == ve.shape[1]:\n",
    "    d = np.linalg.eig(ve)[1]\n",
    "    ve = np.dot(np.dot(np.linalg.inv(d),ve),d)\n",
    "ve = ve-np.min(np.real(ve))\n",
    "mid = 0; index = 0\n",
    "tlog1 = ln_t2(ve[mid] - ve[index] + x, exp.atom['w'], exp.T, exp.lt)\n",
    "# tlog2 = ln_t2(ve[mid] - ve[index] - x, exp.atom['w'], exp.T, exp.lt)\n",
    "print(tlog1.shape, tlog1[0])"
   ]
  },
  {
   "cell_type": "raw",
   "metadata": {},
   "source": [
    "ve = np.real(exp.eigenval)\n",
    "ve = ve - np.min(ve)\n",
    "occ = Occupation(ve, exp.T)\n",
    "rate = np.conj(Rate2nd2(exp).T)\n",
    "rateneg = np.conj(rate.T)\n",
    "x = np.conj(np.linspace(abs(exp.xrange),-abs(exp.xrange),1000).T)\n",
    "y = 0\n",
    "a = exp.eigenvec.shape\n",
    "# en = (ve[3]-ve[3]-x)/abs(exp.T)\n",
    "# ep = (ve[3]-ve[3]+x)/abs(exp.T)\n",
    "# ytemp = occ[3]*(rate[3,3]*fstep(ep)+rateneg[3,3]*fstep(en))\n",
    "\n",
    "\n",
    "for i in range(a[1]):\n",
    "    if occ[i] > precission:\n",
    "        for j in range(a[1]):\n",
    "            en = (ve[j]-ve[i]-x)/abs(exp.T)\n",
    "            ep = (ve[j]-ve[i]+x)/abs(exp.T)\n",
    "            ytemp = occ[i]*(rate[i,j]*fstep(ep)+rateneg[i,j]*fstep(en))\n",
    "            y = y+ytemp\n",
    "            \n",
    "print(y[299])\n",
    "print(x)\n",
    "# x = clean(x, 1e-5)\n",
    "# z = np.exp(x)\n",
    "# y = (1+(x-1)*z)/((z-1)*(z-1))\n",
    "# y[y==0] = 0.5\n",
    "# y[np.isnan(y)] = 0\n"
   ]
  },
  {
   "cell_type": "code",
   "execution_count": null,
   "metadata": {
    "scrolled": false
   },
   "outputs": [],
   "source": [
    "# rate, rater, raten, ratenr = M35(exp, 0)\n",
    "# print(rate)\n",
    "[e_sig, er_sig, en_sig, enr_sig] = e_epsilon(exp)\n",
    "print(e_sig.shape, e_sig)\n",
    "# for mid in range(4):\n",
    "#     for fin in range(4):\n",
    "#         print('---',mid, fin,'---')\n",
    "#         print(abs(rate[mid, fin]) + abs(raten[mid, fin]) + \n",
    "#              abs(rater[mid, fin]) + abs(ratenr[mid, fin]))"
   ]
  },
  {
   "cell_type": "code",
   "execution_count": null,
   "metadata": {},
   "outputs": [],
   "source": [
    "x,y,z,u = etransport(exp)\n",
    "\n",
    "texp = copy.deepcopy(exp)\n",
    "texp.ptip = copy.deepcopy(texp.psample)\n",
    "xs,ys,zs,us = etransport(texp)\n",
    "# need to build new axis for x, y,z!!!\n",
    "mone = np.ones((1,2))\n",
    "so1 = [x,y,z,u]\n",
    "so2 = [xs, ys, zs, us]\n",
    "so3 = [np.conj(x.T), np.conj(y.T), np.conj(z.T), np.conj(u.T)]\n",
    "e = np.zeros((4,4,4))\n",
    "er = copy.deepcopy(e); en = copy.deepcopy(e); enr = copy.deepcopy(e)\n",
    "j=0;k=1;l=3;index=0\n",
    "temp = np.kron(mone, so1[l][:, index][:, np.newaxis]) * (np.kron(np.conj(mone.T), so3[k][index, :][np.newaxis, :]) * so2[j].T)\n",
    "enr[j, k, l] = enr[j, k, l] + np.sum(temp)\n",
    "print(temp)\n",
    "    \n",
    "    \n",
    "# print(mone.shape, so1[0][:,0][:, np.newaxis].shape)\n",
    "# print(mone.T.shape, so1[0][0,:][np.newaxis, :].shape)\n",
    "# print(np.kron(np.conj(mone.T), so3[0][0, :][np.newaxis, :]))\n",
    "# print(so2[0].T * np.kron(mone, so1[0][:, 0][:, np.newaxis]))\n",
    "# n = 2\n",
    "# print((abs(rate[mid, fin]) + abs(raten[mid, fin]) + \\\n",
    "#                     abs(rater[mid, fin]) + abs(ratenr[mid, fin])))"
   ]
  },
  {
   "cell_type": "code",
   "execution_count": null,
   "metadata": {
    "scrolled": true
   },
   "outputs": [],
   "source": [
    "if exp.jposition == None:\n",
    "    exp.jposition = exp.position\n",
    "\n",
    "ve = exp.eigenval\n",
    "if len(ve.shape) > 1 and ve.shape[0] == ve.shape[1]:\n",
    "    d = np.linalg.eig(ve)[1]\n",
    "    ve = np.dot(np.dot(np.linalg.inv(d),ve),d)\n",
    "ve = ve-np.min(np.real(ve))\n",
    "\n",
    "a = exp.eigenvec.shape\n",
    "\n",
    "if isvector(exp.xrange):\n",
    "    rnge = np.max(abs(exp.xrange))\n",
    "else:\n",
    "    rnge = (2*exp.xrange)/999*999.5\n",
    "\n",
    "x = np.linspace(rnge, -rnge, 2000)\n",
    "\n",
    "out = np.zeros((a[1], a[1], 1000))\n",
    "outn = np.zeros((a[1],a[1],1000))\n",
    "\n",
    "yspan = (x[0]-x[-1])/2; ycenter = (x[0]+x[-1])/2\n",
    "i = x.shape[0]\n",
    "y = np.linspace(ycenter+yspan, ycenter-yspan, i+1)[np.newaxis,:]#1.    2001.  \n",
    "xkernel = fstep_simple(y/exp.T) #1.    2001.  \n",
    "yp = np.zeros(x.shape); ypr = np.zeros(x.shape)\n",
    "yn = np.zeros(x.shape); ynr = np.zeros(x.shape)\n",
    "mid= 2;  fin=3; index =0\n",
    "[rate, rater, raten, ratenr] = M35(exp, index)\n",
    "tlog1 = ln_t2(ve[mid]-ve[index]+x, exp.atom['w'], exp.T, exp.lt)\n",
    "tlog2 = ln_t2(ve[mid]-ve[index]-x, exp.atom['w'], exp.T, exp.lt)\n",
    "en = fstep_simple((ve[fin]-ve[index]-x)/exp.T)[:,np.newaxis]\n",
    "ep = fstep_simple((ve[fin]-ve[index]+x)/exp.T)[:,np.newaxis]\n",
    "ytemp = -2*np.real(rate[mid,fin]*ep*tlog1)\n",
    "ytempn = -2*np.real(raten[mid,fin]*en*tlog2)\n",
    "ytempr = -2*np.real(rater[mid,fin]*ep*tlog2)\n",
    "ytempnr = -2*np.real(ratenr[mid,fin]*en*tlog1)\n",
    "yp = yp.flatten()+ytemp.flatten()\n",
    "yn = yn.flatten()+ytempn.flatten()\n",
    "ypr = ypr.flatten()+ytempr.flatten()\n",
    "ynr = ynr.flatten()+ytempnr.flatten()\n",
    "z = convolve2d((-yp-ypr)[:,np.newaxis],xkernel.flatten()[:,np.newaxis],'same')/1000 * np.max(x)\n",
    "out[fin,index,:] = z[500:1500].flatten()\n",
    "zn = convolve2d((-yn[::-1]-ynr[::-1])[:,np.newaxis], xkernel.flatten()[:,np.newaxis],'same')/1000*np.max(x) \n",
    "outn[fin,index,:] = zn[1499:499:-1].flatten()\n",
    "\n",
    "print(yp.shape, yp[0], yp[-1])\n",
    "print(yn.shape, yn[0], yn[-1])\n",
    "print(z.shape, z[0], z[-1], zn[0], zn[-1])\n",
    "print('--',out[fin,index,0], out[fin,index,-1])\n",
    "print('--',outn[fin,index,0], outn[fin,index,-1])\n",
    "print('z', z[500:1500].flatten()[0],  z[500:1500].flatten()[-1])\n",
    "print('zn', zn[1499:-1:501].flatten()[0], zn[1499:-1:500].flatten()[-1])\n",
    "print(zn[500])"
   ]
  }
 ],
 "metadata": {
  "kernelspec": {
   "display_name": "Python 3",
   "language": "python",
   "name": "python3"
  },
  "language_info": {
   "codemirror_mode": {
    "name": "ipython",
    "version": 3
   },
   "file_extension": ".py",
   "mimetype": "text/x-python",
   "name": "python",
   "nbconvert_exporter": "python",
   "pygments_lexer": "ipython3",
   "version": "3.8.5"
  }
 },
 "nbformat": 4,
 "nbformat_minor": 4
}

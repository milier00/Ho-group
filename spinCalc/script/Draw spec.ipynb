{
 "cells": [
  {
   "cell_type": "code",
   "execution_count": 1,
   "metadata": {},
   "outputs": [],
   "source": [
    "import numpy as np\n",
    "from matplotlib import pyplot as plt\n",
    "import copy\n",
    "from scipy.linalg import expm, sinm, cosm\n",
    "from sympy import *\n",
    "a,b,c,d,e,f,g,h,t,U = symbols('a,b,c,d,e,f,g,h,t,U')"
   ]
  },
  {
   "cell_type": "code",
   "execution_count": 2,
   "metadata": {},
   "outputs": [],
   "source": [
    "precission = 0.001"
   ]
  },
  {
   "cell_type": "code",
   "execution_count": 3,
   "metadata": {},
   "outputs": [],
   "source": [
    "class experiment():\n",
    "\n",
    "    def __init__(self):\n",
    "        super().__init__()\n",
    "        self.T = 0.08617\n",
    "        self.xrange = 10\n",
    "        self.lt = 0.005\n",
    "        self.ptip = [0,0,0]\n",
    "        self.psample = [0,0,0]\n",
    "        self.atom = {'S':1.5, 'g':2, 'D':2.7, 'E':0.5, 'J':-0.25, 'U':0, 'w':20}\n",
    "        self.eigenvec = np.array([[-0.1332256,0,0,-0.9910857],\n",
    "                         [0, 0.9829937,0.1836392,0],      \n",
    "                        [0.9910857,0, 0, -0.1332256],\n",
    "                        [0, -0.1836392, 0.9829937,0 ]])\n",
    "        self.eigenval = np.array([0.3270655,0.7447324,5.5422276,6.8859745])\n",
    "        self.position = 1\n",
    "        self.jposition = 1\n",
    "        self.A = 1\n",
    "        self.b = 0\n",
    "        self.x0 = 0\n",
    "        self.y0 = 0\n",
    "        self.B = [0,0,4]\n",
    "        self.matrix = '1'\n",
    "        self.matrixDM = '0,0,0'\n",
    "        self.heisenberg_coupling  = 0\n",
    "        self.sample_entanglemen = True\n",
    "        self.sef = 1\n",
    "        self.paramagnetic = False\n",
    "        self.paramag_S = 2.5\n",
    "        self.paramag_g = 2\n",
    "        self.eta = 0.3\n",
    "        self.no_eval = 1000\n",
    "        self.max_no_eigenstates = 50\n",
    "        self.third_order_calc = True\n",
    "        self.rate_calc = False\n",
    "        self.entanglement = False\n",
    "        self.allatomsequ = 0\n",
    "        self.sw = [True, False, False, True, True, False, True, False, \\\n",
    "                   False, False, True, False, False]\n",
    "        "
   ]
  },
  {
   "cell_type": "code",
   "execution_count": 4,
   "metadata": {},
   "outputs": [],
   "source": [
    "def clean(m, esp):\n",
    "    m[abs(m)<esp] = 0\n",
    "    return m"
   ]
  },
  {
   "cell_type": "code",
   "execution_count": 5,
   "metadata": {},
   "outputs": [],
   "source": [
    "def sparse(S):\n",
    "    return S"
   ]
  },
  {
   "cell_type": "code",
   "execution_count": 6,
   "metadata": {},
   "outputs": [],
   "source": [
    "def isvector(v):\n",
    "    if np.array(v).ndim == 1:\n",
    "        return True\n",
    "    else:\n",
    "        return False"
   ]
  },
  {
   "cell_type": "code",
   "execution_count": 7,
   "metadata": {},
   "outputs": [],
   "source": [
    "def dmatrix(n):\n",
    "    ss = {'S':0.5}\n",
    "    e=1/2*S1(ss)+n[0]*Sx(ss)+n[1]*Sy(ss)+n[2]*Sz(ss)\n",
    "    return e"
   ]
  },
  {
   "cell_type": "code",
   "execution_count": 8,
   "metadata": {},
   "outputs": [],
   "source": [
    "def spec(m):\n",
    "    d = np.linalg.eig(m)\n",
    "    return d[1], d[0]"
   ]
  },
  {
   "cell_type": "code",
   "execution_count": 9,
   "metadata": {},
   "outputs": [],
   "source": [
    "def Rate2nd2(exp):\n",
    "    [x, y, z, u] = etransport(exp)\n",
    "    E = exp.eigenvec\n",
    "    S = exp.atom\n",
    "    matrxx = Sx(S)\n",
    "    matrxy = Sy(S)\n",
    "    matrxz = Sz(S)\n",
    "    matrxu = S['U']*S1(S)\n",
    "\n",
    "    matrxx = np.dot(np.dot(np.conj(E.T),matrxx),E)\n",
    "    matrxy = np.dot(np.dot(np.conj(E.T),matrxy),E)\n",
    "    matrxz = np.dot(np.dot(np.conj(E.T),matrxz),E)\n",
    "    matrxu = np.dot(np.dot(np.conj(E.T),matrxu),E)\n",
    "    \n",
    "    out = 0\n",
    "    for i in range(4):\n",
    "        out = out + abs(matrxx*x.flatten()[i]+matrxy*y.flatten()[i]+matrxz*z.flatten()[i]+matrxu*u.flatten()[i])\\\n",
    "        *abs(matrxx*x.flatten()[i]+matrxy*y.flatten()[i]+matrxz*z.flatten()[i]+matrxu*u.flatten()[i])\n",
    "    \n",
    "    return out"
   ]
  },
  {
   "cell_type": "code",
   "execution_count": 10,
   "metadata": {},
   "outputs": [],
   "source": [
    "def etransport(exp):\n",
    "    e = {'S':0.5}\n",
    "    dt=dmatrix(exp.ptip)\n",
    "    ds=dmatrix(exp.psample)\n",
    "    wt,pt=spec(dt)\n",
    "    ws,ps=spec(ds)\n",
    "    \n",
    "    ps = ps[:, np.newaxis]\n",
    "    pt = pt[:, np.newaxis]\n",
    "    pp=np.sqrt(np.kron(ps, np.conj(pt.T)))\n",
    "\n",
    "    x=np.dot(np.conj(ws.T),np.dot(2*Sx(e),wt))*pp\n",
    "    y=np.dot(np.conj(ws.T),np.dot(2*Sy(e),wt))*pp\n",
    "    z=np.dot(np.conj(ws.T),np.dot(2*Sz(e),wt))*pp\n",
    "    u=-2*np.dot(np.conj(ws.T),wt)*pp\n",
    "#     print('--x\\n',x,'\\n--y\\n',y,'\\n--z\\n',z,'\\n--u\\n',u)\n",
    "    return x,y,z,u"
   ]
  },
  {
   "cell_type": "code",
   "execution_count": 11,
   "metadata": {},
   "outputs": [],
   "source": [
    "def Splus(S):\n",
    "    a = np.arange(1,2*S['S']+1)\n",
    "    b = np.arange(2*S['S'],0,-1)\n",
    "    e = np.sqrt(a*b)\n",
    "    ee = diag(e,1)\n",
    "    return ee\n",
    "\n",
    "def Sminus(S):\n",
    "    a = np.arange(1,2*S['S']+1)\n",
    "    b = np.arange(2*S['S'],0,-1)\n",
    "    e = np.sqrt(a*b)\n",
    "    ee = diag(e,-1)\n",
    "    return ee\n",
    "\n",
    "def Sx(S):\n",
    "    return 0.5*(Splus(S)+Sminus(S))\n",
    "def Sy(S):\n",
    "    return -0.5*1j*(Splus(S)-Sminus(S))\n",
    "def Sz(S):\n",
    "    return diag(np.arange(S['S'],-S['S']-1,-1))\n",
    "def S1(S):\n",
    "    return diag(np.ones((int(S['S']*2)+1,1)).flatten().tolist())"
   ]
  },
  {
   "cell_type": "code",
   "execution_count": 12,
   "metadata": {},
   "outputs": [],
   "source": [
    "def diag(evals, k=0):\n",
    "    e = np.zeros((len(evals)+abs(k),len(evals)+abs(k)))\n",
    "    for i in range(e.shape[0]):\n",
    "        if i+k<=e.shape[0]-1 and i+k>=0:\n",
    "            e[i,i+k] = evals[i+k] if k<=0 else evals[i]\n",
    "        else:\n",
    "            continue\n",
    "    return e"
   ]
  },
  {
   "cell_type": "code",
   "execution_count": 13,
   "metadata": {},
   "outputs": [],
   "source": [
    "def Occupation(ve, T):\n",
    "    ve = np.real(ve)\n",
    "    if ve.ndim > 1 and ve.shape[0] == ve.shape[1]:\n",
    "        ve = diag(ve)\n",
    "    ve = ve - np.min(ve)\n",
    "    if T != 0:\n",
    "        e = np.exp(-ve/T)\n",
    "        e = e / np.sum(e)\n",
    "    else:\n",
    "        bb = ve.shape\n",
    "        e[:bb[0]+1] = 0\n",
    "        k = np.min(ve)\n",
    "        e[ve.tolist().index(k)] = 1\n",
    "        e = e / np.sum(e)\n",
    "    \n",
    "    return e"
   ]
  },
  {
   "cell_type": "code",
   "execution_count": 14,
   "metadata": {},
   "outputs": [],
   "source": [
    "def fstep(x):\n",
    "    x = clean(x, 1e-5)\n",
    "    z = np.exp(x)\n",
    "    y = (1+(x-1)*z)/((z-1)*(z-1))\n",
    "    y[y==0] = 0.5\n",
    "    y[np.isnan(y)] = 0\n",
    "    return y"
   ]
  },
  {
   "cell_type": "code",
   "execution_count": 38,
   "metadata": {},
   "outputs": [],
   "source": [
    "def spec2(exp):\n",
    "    ve = np.real(exp.eigenval)\n",
    "    if len(ve.shape) > 1 and ve.shape[0] == ve.shape[1]:\n",
    "        d = np.linalg.eig(ve)[1]\n",
    "        ve = np.dot(np.dot(np.linalg.inv(d),ve),d)\n",
    "    ve = ve-np.min(np.real(ve))\n",
    "    occ = Occupation(ve, exp.T)\n",
    "    rate = np.conj(Rate2nd2(exp).T)\n",
    "    rateneg = np.conj(rate.T)\n",
    "    \n",
    "    if isvector(exp.xrange):\n",
    "        x = exp.xrange\n",
    "    else:\n",
    "        x = np.conj(np.linspace(abs(exp.xrange),-abs(exp.xrange),1000).T)\n",
    "        \n",
    "    y = 0\n",
    "    a = exp.eigenvec.shape\n",
    "    for i in range(a[1]):\n",
    "        if occ[i] > precission:\n",
    "            for j in range(a[1]):\n",
    "                print('---',i,j,'----')\n",
    "                en = (ve[j]-ve[i]-x)/abs(exp.T)\n",
    "                ep = (ve[j]-ve[i]+x)/abs(exp.T)\n",
    "                ytemp = occ[i]*(rate[i,j]*fstep(ep)+rateneg[i,j]*fstep(en))\n",
    "                y = y+ytemp\n",
    "                \n",
    "    return x, y "
   ]
  },
  {
   "cell_type": "markdown",
   "metadata": {},
   "source": [
    "        d = np.linalg.eig(ve)[1]\n",
    "        ve = np.dot(np.dot(np.linalg.inv(d),ve),d)"
   ]
  },
  {
   "cell_type": "code",
   "execution_count": 39,
   "metadata": {
    "scrolled": false
   },
   "outputs": [
    {
     "name": "stdout",
     "output_type": "stream",
     "text": [
      "--- 0 0 ----\n",
      "--- 0 1 ----\n",
      "--- 0 2 ----\n",
      "--- 0 3 ----\n",
      "--- 1 0 ----\n",
      "--- 1 1 ----\n",
      "--- 1 2 ----\n",
      "--- 1 3 ----\n"
     ]
    },
    {
     "data": {
      "image/png": "[encoded data removed]",
      "text/plain": [
       "<Figure size 432x288 with 1 Axes>"
      ]
     },
     "metadata": {
      "needs_background": "light"
     },
     "output_type": "display_data"
    },
    {
     "name": "stdout",
     "output_type": "stream",
     "text": [
      "1.1303541815040439 1.0723827125812917 23.349332853800767 9.337448211745107e-34\n",
      "True\n",
      "True\n",
      "False\n",
      "False\n"
     ]
    }
   ],
   "source": [
    "exp = experiment()\n",
    "x, y = spec2(exp)\n",
    "plt.plot(x,y)\n",
    "plt.show()\n",
    "\n",
    "\n",
    "\n",
    "# ve = np.real(exp.eigenval)\n",
    "# if len(ve.shape) > 1 and ve.shape[0] == ve.shape[1]:\n",
    "#     d = np.linalg.eig(ve)[1]\n",
    "#     ve = np.dot(np.dot(np.linalg.inv(d),ve),d)\n",
    "# ve = ve-np.min(np.real(ve))\n",
    "# occ = Occupation(ve, exp.T)\n",
    "# rate = np.conj(Rate2nd2(exp).T)\n",
    "# rateneg = np.conj(rate.T)\n",
    "\n",
    "# if isvector(exp.xrange):\n",
    "#     x = exp.xrange\n",
    "# else:\n",
    "#     x = np.conj(np.linspace(abs(exp.xrange),-abs(exp.xrange),1000).T)\n",
    "\n",
    "# y = 0\n",
    "# a = exp.eigenvec.shape\n",
    "\n",
    "i =3;j=3\n",
    "en = (ve[j]-ve[i]-x)/abs(exp.T)\n",
    "ep = (ve[j]-ve[i]+x)/abs(exp.T)\n",
    "ytemp = occ[i]*(rate[i,j]*fstep(ep)+rateneg[i,j]*fstep(en))\n",
    "# y = y+ytemp\n",
    "\n",
    "print(y[399],  rateneg[3,3], ep[399], ytemp[399])\n",
    "for k in range(a[1]):\n",
    "    print(occ[k]> precission)"
   ]
  },
  {
   "cell_type": "code",
   "execution_count": 28,
   "metadata": {},
   "outputs": [
    {
     "name": "stdout",
     "output_type": "stream",
     "text": [
      "(1000, 2)\n"
     ]
    },
    {
     "data": {
      "image/png": "[encoded data removed]",
      "text/plain": [
       "<Figure size 432x288 with 1 Axes>"
      ]
     },
     "metadata": {
      "needs_background": "light"
     },
     "output_type": "display_data"
    }
   ],
   "source": [
    "data = np.loadtxt('./co.dat')\n",
    "print(data.shape)\n",
    "xx = data[:,0]; yy=data[:,1]\n",
    "plt.plot(xx,yy)\n",
    "plt.show()"
   ]
  },
  {
   "cell_type": "raw",
   "metadata": {},
   "source": [
    "ve = np.real(exp.eigenval)\n",
    "ve = ve - np.min(ve)\n",
    "occ = Occupation(ve, exp.T)\n",
    "rate = np.conj(Rate2nd2(exp).T)\n",
    "rateneg = np.conj(rate.T)\n",
    "x = np.conj(np.linspace(abs(exp.xrange),-abs(exp.xrange),1000).T)\n",
    "y = 0\n",
    "a = exp.eigenvec.shape\n",
    "# en = (ve[3]-ve[3]-x)/abs(exp.T)\n",
    "# ep = (ve[3]-ve[3]+x)/abs(exp.T)\n",
    "# ytemp = occ[3]*(rate[3,3]*fstep(ep)+rateneg[3,3]*fstep(en))\n",
    "\n",
    "\n",
    "for i in range(a[1]):\n",
    "    if occ[i] > precission:\n",
    "        for j in range(a[1]):\n",
    "            en = (ve[j]-ve[i]-x)/abs(exp.T)\n",
    "            ep = (ve[j]-ve[i]+x)/abs(exp.T)\n",
    "            ytemp = occ[i]*(rate[i,j]*fstep(ep)+rateneg[i,j]*fstep(en))\n",
    "            y = y+ytemp\n",
    "            \n",
    "print(y[299])\n",
    "print(x)\n",
    "# x = clean(x, 1e-5)\n",
    "# z = np.exp(x)\n",
    "# y = (1+(x-1)*z)/((z-1)*(z-1))\n",
    "# y[y==0] = 0.5\n",
    "# y[np.isnan(y)] = 0\n"
   ]
  },
  {
   "cell_type": "code",
   "execution_count": null,
   "metadata": {},
   "outputs": [],
   "source": []
  }
 ],
 "metadata": {
  "kernelspec": {
   "display_name": "Python 3",
   "language": "python",
   "name": "python3"
  },
  "language_info": {
   "codemirror_mode": {
    "name": "ipython",
    "version": 3
   },
   "file_extension": ".py",
   "mimetype": "text/x-python",
   "name": "python",
   "nbconvert_exporter": "python",
   "pygments_lexer": "ipython3",
   "version": "3.8.5"
  }
 },
 "nbformat": 4,
 "nbformat_minor": 4
}

{
 "cells": [
  {
   "cell_type": "code",
   "execution_count": 57,
   "metadata": {},
   "outputs": [
    {
     "data": {
      "text/plain": [
       "{'divide': 'ignore', 'over': 'warn', 'under': 'ignore', 'invalid': 'ignore'}"
      ]
     },
     "execution_count": 57,
     "metadata": {},
     "output_type": "execute_result"
    }
   ],
   "source": [
    "import numpy as np\n",
    "from matplotlib import pyplot as plt\n",
    "import copy\n",
    "from scipy.linalg import expm, sinm, cosm, null_space\n",
    "from scipy.signal import convolve2d\n",
    "from scipy.sparse import coo_matrix\n",
    "from scipy.sparse import linalg\n",
    "np.seterr(divide='ignore',invalid='ignore')"
   ]
  },
  {
   "cell_type": "code",
   "execution_count": 20,
   "metadata": {},
   "outputs": [],
   "source": [
    "class experiment():\n",
    "\n",
    "    def __init__(self):\n",
    "        super().__init__()\n",
    "        self.T = 0.08617\n",
    "        self.xrange = 10\n",
    "        self.lt = 0.005\n",
    "        self.ptip = [0,0,0]\n",
    "        self.psample = [0,0,0]\n",
    "        self.atom = [atom()]\n",
    "        self.eigenvec = np.array([[-0.1332256,0,0,-0.9910857],\n",
    "                         [0, 0.9829937,0.1836392,0],      \n",
    "                        [0.9910857,0, 0, -0.1332256],\n",
    "                        [0, -0.1836392, 0.9829937,0 ]])\n",
    "        self.eigenval = np.array([0.3270655,0.7447324,5.5422276,6.8859745])\n",
    "        self.position = 1\n",
    "        self.jposition = 1\n",
    "        self.A = 1\n",
    "        self.b = 0\n",
    "        self.x0 = 0\n",
    "        self.y0 = 0\n",
    "        self.B = [0,0,4]\n",
    "        self.matrix = '1'\n",
    "        self.matrixDM = '0,0,0'\n",
    "        self.heisenberg_coupling  = 0\n",
    "        self.sample_entanglemen = True\n",
    "        self.sef = 1\n",
    "        self.paramagnetic = False\n",
    "        self.paramag_S = 2.5\n",
    "        self.paramag_g = 2\n",
    "        self.eta = 0.3\n",
    "        self.no_eval = 1000\n",
    "        self.max_no_eigenstates = 50\n",
    "        self.third_order_calc = True\n",
    "        self.rate_calc = False\n",
    "        self.entanglement = False\n",
    "        self.allatomsequ = 0\n",
    "        self.sw = [True, False, False, True, True, False, True, False, \\\n",
    "                   False, False, True, False, False]\n",
    "        "
   ]
  },
  {
   "cell_type": "code",
   "execution_count": 70,
   "metadata": {},
   "outputs": [],
   "source": [
    "class atom():\n",
    "\n",
    "    def __init__(self):\n",
    "        super().__init__()\n",
    "        self.S = 1.5\n",
    "        self.g = 2\n",
    "        self.D = 2.7\n",
    "        self.E = 0.5\n",
    "        self.J = [-0.25]\n",
    "        self.U = 0\n",
    "        self.w = 20\n",
    "        self.DD = None\n",
    "        self.G = None\n",
    "    \n",
    "    def init_atom(paras):\n",
    "        self.S = paras[0]\n",
    "        self.g = paras[1]\n",
    "        self.D = paras[2]\n",
    "        self.E = paras[3]\n",
    "        self.J = paras[4]\n",
    "        self.U = paras[5]\n",
    "        self.w = paras[6]\n",
    "        self.DD = paras[7]\n",
    "        self.G = paras[8]"
   ]
  },
  {
   "cell_type": "code",
   "execution_count": 68,
   "metadata": {},
   "outputs": [],
   "source": [
    "def Splus(S):\n",
    "    a = np.arange(1,2*S.S+1)\n",
    "    b = np.arange(2*S.S,0,-1)\n",
    "    e = np.sqrt(a*b)\n",
    "    ee = diag(e,1)\n",
    "    return ee\n",
    "\n",
    "def Sminus(S):\n",
    "    a = np.arange(1,2*S.S+1)\n",
    "    b = np.arange(2*S.S,0,-1)\n",
    "    e = np.sqrt(a*b)\n",
    "    ee = diag(e,-1)\n",
    "    return ee\n",
    "\n",
    "def Sx(S):\n",
    "    return 0.5*(Splus(S)+Sminus(S))\n",
    "def Sy(S):\n",
    "    return -0.5*1j*(Splus(S)-Sminus(S))\n",
    "def Sz(S):\n",
    "    return diag(np.arange(S.S,-S.S-1,-1))\n",
    "def S1(S):\n",
    "    return diag(np.ones((int(S.S*2)+1,1)).flatten().tolist())"
   ]
  },
  {
   "cell_type": "code",
   "execution_count": 121,
   "metadata": {},
   "outputs": [],
   "source": [
    "def HZ(S, B):\n",
    "    a = len(B)\n",
    "    if a != 1 and a != 3:\n",
    "        print('error5')\n",
    "        return\n",
    "    if a==1:\n",
    "        B = [0,0,B[0]]\n",
    "    e = S.g*0.05788*(B[0]*Sx(S)+B[1]*Sy(S)+B[2]*Sz(S))\n",
    "    return e"
   ]
  },
  {
   "cell_type": "code",
   "execution_count": 62,
   "metadata": {},
   "outputs": [],
   "source": [
    "def Haniso(S):\n",
    "    if S.D == None:\n",
    "        S.D = 0\n",
    "    if S.E == None:\n",
    "        S.E = 0\n",
    "    e = S.D*np.dot(Sz(S),Sz(S))+S.E*(np.dot(Sx(S), Sx(S))-np.dot(Sy(S),Sy(S)))\n",
    "    if S.DD != None:\n",
    "        e = e+S.DD*np,power(Sz(S), 4.)\n",
    "    if S.G != None:\n",
    "        e = e+S.G*(np.power(Splus(S),4.)+np.power(Sminus(S),4.))\n",
    "    return e"
   ]
  },
  {
   "cell_type": "code",
   "execution_count": 15,
   "metadata": {},
   "outputs": [],
   "source": [
    "def HHeisenberg(t,J,n,m):\n",
    "    a = np.sum(J.shape)\n",
    "    if a != 1 and a != 3:\n",
    "        print('error5')\n",
    "        return\n",
    "    if a==1:\n",
    "        J = [J, J, J]\n",
    "    b = t.shape[1]\n",
    "    if (b<n or b<m) or n==m:\n",
    "        print('error1')\n",
    "        return\n",
    "    if n>m:\n",
    "        p=copy.deepcopy(n); n=copy.deepcopy(m); m=copy.deepcopy(p)\n",
    "        \n",
    "    x=1;y=1;z=1\n",
    "    for j in range(n-1):\n",
    "        m1=sparse(S1(t[j]))\n",
    "        x = np.kron(x, m1)\n",
    "        y = np.kron(y, m1)\n",
    "        z = np.kron(z, m1)\n",
    "    x = np.kron(x, Sx(t[n-1]))\n",
    "    y = np.kron(y, Sy(t[n-1]))\n",
    "    z = np.kron(z, Sz(t[n-1]))\n",
    "    for j in range(n, m-1):\n",
    "        m1 = sparse(S1(t[j]))\n",
    "        x = np.kron(x, m1)\n",
    "        y = np.kron(y, m1)\n",
    "        z = np.kron(z, m1)\n",
    "    x = np.kron(x, Sx(t[m-1]))\n",
    "    y = np.kron(y, Sy(t[m-1]))\n",
    "    z = np.kron(z, Sz(t[m-1]))\n",
    "    for j in range(m, b):\n",
    "        m1 = sparse(S1(t[j]))\n",
    "        x = np.kron(x, m1)\n",
    "        y = np.kron(y, m1)\n",
    "        z = np.kron(z, m1)\n",
    "    e = J[0]*x+J[1]*y+J[2]*z\n",
    "    return e"
   ]
  },
  {
   "cell_type": "code",
   "execution_count": 17,
   "metadata": {},
   "outputs": [],
   "source": [
    "def HDM(t, D, n, m):\n",
    "    b = t.shape[1]\n",
    "    if (b<n or b<m) or n==m:\n",
    "        print('error1')\n",
    "        return\n",
    "    if n>m:\n",
    "        p=copy.deepcopy(n); n=copy.deepcopy(m)\n",
    "        m=copy.deepcopy(p); D=copy.deepcopy(-D)\n",
    "    x=1;y=1;z=1;xx=1;yy=1;zz=1\n",
    "    \n",
    "    for j in range(n-1):\n",
    "        x = np.kron(x, sparse(S1(t[j])))\n",
    "        xx = copy.deepcopy(x); y = copy.deepcopy(x); yy = copy.deepcopy(x)\n",
    "        z = copy.deepcopy(x); zz = copy.deepcopy(x)\n",
    "    x = np.kron(x, sparse(Sy(t[n-1]))); xx = np,kron(xx, sparse(Sz(t[n-1])))\n",
    "    y = np.kron(y, sparse(Sz(t[n-1]))); yy = np,kron(yy, sparse(Sx(t[n-1])))\n",
    "    z = np.kron(z, sparse(Sx(t[n-1]))); zz = np,kron(zz, sparse(Sy(t[n-1])))\n",
    "    for j in range(n+1,m):\n",
    "        m1 = sparse(S1(t[j]))\n",
    "        x = np.kron(x, m1); xx = np.kron(xx, m1)\n",
    "        y = np.kron(y, m1); yy = np.kron(yy, m1)\n",
    "        z = np.kron(z, m1); zz = np.kron(zz, m1)\n",
    "    x = np.kron(x, sparse(Sz(t[m-1]))); xx = np,kron(xx, sparse(Sy(t[n-1])))\n",
    "    y = np.kron(y, sparse(Sx(t[m-1]))); yy = np,kron(yy, sparse(Sz(t[n-1])))\n",
    "    z = np.kron(z, sparse(Sy(t[m-1]))); zz = np,kron(zz, sparse(Sx(t[n-1]))) \n",
    "    for j in range(m+1,b+1):\n",
    "        m1 = sparse(S1(t[j]))\n",
    "        x = np.kron(x, m1); xx = np.kron(xx, m1)\n",
    "        y = np.kron(y, m1); yy = np.kron(yy, m1)\n",
    "        z = np.kron(z, m1); zz = np.kron(zz, m1)\n",
    "    e = D[0]*(x-xx)+D[1]*(y-yy)+D[2]*(z-zz)\n",
    "    return e"
   ]
  },
  {
   "cell_type": "code",
   "execution_count": 66,
   "metadata": {},
   "outputs": [],
   "source": [
    "def HAni(t, B):\n",
    "    b = len(t)# need to modify for multiple spins!!!\n",
    "    if b == 1:\n",
    "        e = Haniso(t[0])+HZ(t[0],B)\n",
    "    else:\n",
    "        e = []\n",
    "        for i in range(b):\n",
    "            x = 1\n",
    "            for j in range(i-1):\n",
    "                x = np.kron(x, sparse(S1(t[j])))\n",
    "            x = np.kron(x, sparse(Haniso(t[i])+HZ(t[i],B)))\n",
    "            for j in range(i, b):\n",
    "                x = np.kron(x, sparse(S1(t[j])))\n",
    "            e = e+x\n",
    "    return e"
   ]
  },
  {
   "cell_type": "code",
   "execution_count": 21,
   "metadata": {},
   "outputs": [],
   "source": [
    "def hamiltonian(exp):\n",
    "    H = HAni(exp.atom, exp.B)\n",
    "    \n",
    "    if len(exp.atom) > 1:\n",
    "        if exp.matrix != None:\n",
    "            M = exp.matrix\n",
    "            J = exp.heisenberg_coupling\n",
    "            if J != 0:\n",
    "                for i in range(M.shape[0]):\n",
    "                    for j in range(1, M.shape[1]+1):\n",
    "                        if j>i:\n",
    "                            H = H+HHeisenberg(exp.atom. evstr(M[i,j-1])*J, i, j)\n",
    "        if exp.matrixDM != None:\n",
    "            M = exp.matrixDM\n",
    "            J = exp.heisenberg_coupling\n",
    "            if J != 0:\n",
    "                for i in range(M.shape[0]):\n",
    "                    for j in range(1,M.shape[1]+1):\n",
    "                        if j>i:\n",
    "                            H = H+HDM(exp.atom, evstr(M[i,j-1])*J,i,j)\n",
    "    return H"
   ]
  },
  {
   "cell_type": "code",
   "execution_count": 118,
   "metadata": {},
   "outputs": [],
   "source": [
    "def eigenvalues(exp):\n",
    "    H = hamiltonian(exp)\n",
    "    if exp.max_no_eigenstates != None:\n",
    "        if H.shape[0] < exp.max_no_eigenstates+2:\n",
    "            [exp.eigenvec, exp.eigenval] = spec(H)\n",
    "        else:\n",
    "            ofst=0; ofstold=0\n",
    "            while ofst>= 0:\n",
    "                H = H-ofst*speye(H)\n",
    "                [exp.eigenvec, exp.eigenval] = eigs(H, speye(H), exp.max_no_eigenstates)\n",
    "                ofstold = ofstold+ofst\n",
    "                ofst = np.max(np.real((diag(exp.eigenval))))\n",
    "                if ofstold > 0:\n",
    "                    exp.eigenval = exp.eigenval+ofstold*eye(exp.eigenval)\n",
    "        [exp.eigenvec, exp.eigenval] = spec(H)\n",
    "    exp.eigenval = diag(np.real(exp.eigenval))\n",
    "    exp.eigenvec = clean(exp.eigenvec)\n",
    "    sort_eigenval()"
   ]
  },
  {
   "cell_type": "code",
   "execution_count": 119,
   "metadata": {},
   "outputs": [],
   "source": [
    "def sort_eigenval():\n",
    "    evals = exp.eigenval.diagonal(0)\n",
    "    ind = np.unravel_index(np.argsort(evals), evals.shape)\n",
    "    exp.eigenval = evals[ind]\n",
    "    index = np.lexsort((evals,))\n",
    "    exp.eigenvec = exp.eigenvec.T[index].T"
   ]
  },
  {
   "cell_type": "code",
   "execution_count": 54,
   "metadata": {},
   "outputs": [],
   "source": [
    "def speye(*par):\n",
    "    if len(par) == 1:\n",
    "        [m,n] = par[0].shape\n",
    "    else:\n",
    "        m = par[0]; n = par[1]\n",
    "\n",
    "        mn = np.min([m, n])\n",
    "    sp = coo_matrix((np.ones(mn), (np.arange(0,mn), np.arange(0,mn))), shape=(m,n))\n",
    "    return sp.toarray()"
   ]
  },
  {
   "cell_type": "code",
   "execution_count": 55,
   "metadata": {},
   "outputs": [],
   "source": [
    "def sparse(*par):\n",
    "    if len(par) == 1:\n",
    "        S = par[0]\n",
    "        return Matrix(S).tocoo().toarray()\n",
    "#     coo_matrix((data, (row, col)), shape=(4, 4))"
   ]
  },
  {
   "cell_type": "markdown",
   "metadata": {},
   "source": [
    "    print03.__code__.co_argcount"
   ]
  },
  {
   "cell_type": "code",
   "execution_count": 58,
   "metadata": {},
   "outputs": [],
   "source": [
    "def eigs(A, M, k):\n",
    "    return linalg.eigs(A, M=M, k=k)"
   ]
  },
  {
   "cell_type": "code",
   "execution_count": 22,
   "metadata": {},
   "outputs": [],
   "source": [
    "def spec(m):\n",
    "    d = np.linalg.eig(m)\n",
    "    return d[1], d[0]"
   ]
  },
  {
   "cell_type": "code",
   "execution_count": 26,
   "metadata": {},
   "outputs": [],
   "source": [
    "def clean(m, esp=1e-10):\n",
    "    m[abs(m)<esp] = 0\n",
    "    return m"
   ]
  },
  {
   "cell_type": "code",
   "execution_count": 27,
   "metadata": {},
   "outputs": [],
   "source": [
    "def diag(evals, k=0):\n",
    "    e = np.zeros((len(evals)+abs(k),len(evals)+abs(k)))\n",
    "    for i in range(e.shape[0]):\n",
    "        if i+k<=e.shape[0]-1 and i+k>=0:\n",
    "            e[i,i+k] = evals[i+k] if k<=0 else evals[i]\n",
    "        else:\n",
    "            continue\n",
    "    return e"
   ]
  },
  {
   "cell_type": "code",
   "execution_count": 120,
   "metadata": {},
   "outputs": [
    {
     "name": "stdout",
     "output_type": "stream",
     "text": [
      "--- [0.3270655 0.7447324 5.5422276 6.8859745] \n",
      " [[-0.1332256  0.         0.        -0.9910857]\n",
      " [ 0.         0.9829937  0.1836392  0.       ]\n",
      " [ 0.9910857  0.         0.        -0.1332256]\n",
      " [ 0.        -0.1836392  0.9829937  0.       ]]\n",
      "--- [0.32706547 0.7447324  5.5422276  6.88597453] \n",
      " [[-0.13322563+0.j  0.        +0.j  0.        +0.j  0.99108573+0.j]\n",
      " [ 0.        +0.j  0.98299372+0.j  0.18363918+0.j  0.        +0.j]\n",
      " [ 0.99108573+0.j  0.        +0.j  0.        +0.j  0.13322563-0.j]\n",
      " [ 0.        +0.j -0.18363918+0.j  0.98299372+0.j  0.        +0.j]]\n"
     ]
    }
   ],
   "source": [
    "exp = experiment()\n",
    "print('---',exp.eigenval,'\\n', exp.eigenvec)\n",
    "eigenvalues(exp)\n",
    "print('---',exp.eigenval,'\\n', exp.eigenvec)"
   ]
  }
 ],
 "metadata": {
  "kernelspec": {
   "display_name": "Python 3",
   "language": "python",
   "name": "python3"
  },
  "language_info": {
   "codemirror_mode": {
    "name": "ipython",
    "version": 3
   },
   "file_extension": ".py",
   "mimetype": "text/x-python",
   "name": "python",
   "nbconvert_exporter": "python",
   "pygments_lexer": "ipython3",
   "version": "3.8.5"
  }
 },
 "nbformat": 4,
 "nbformat_minor": 4
}
